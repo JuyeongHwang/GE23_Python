{
 "cells": [
  {
   "cell_type": "markdown",
   "id": "a95b43e3",
   "metadata": {},
   "source": [
    "\t// Accept Connection\n",
    "\tif (WaitingForConnection) {\n",
    "\t\t//UE_LOG(LogTemp, Warning, TEXT(\"Waiting\"));\n",
    "\t\tTSharedRef<FInternetAddr> RemoteAddress = ISocketSubsystem::Get(PLATFORM_SOCKETSUBSYSTEM)->CreateInternetAddr();\n",
    "\t\tbool hasConnection = false;\n",
    "\t\tif (ListenSocket->HasPendingConnection(hasConnection) && hasConnection) {\n",
    "\t\t\tConnectionSocket = ListenSocket->Accept(*RemoteAddress, TEXT(\"[GE23]Connection\"));\n",
    "\t\t\tWaitingForConnection = false;\n",
    "\t\t\tUE_LOG(LogTemp, Warning, TEXT(\"[GE23]incoming connection\"));\n",
    "\t\t\t// Start Recv Thread\n",
    "\t\t\tClientConnectionFinishedFuture = Async(EAsyncExecution::LargeThreadPool, [&]() {\n",
    "\t\t\t\tUE_LOG(LogTemp, Warning, TEXT(\"[GE23]recv thread started\"));\n",
    "\t\t\tReceiveArrayMessages();\n",
    "\t\t\t\t}\n",
    "\t\t\t);\n",
    "\t\t}\n",
    "\t}"
   ]
  },
  {
   "cell_type": "code",
   "execution_count": null,
   "id": "3af47f9f",
   "metadata": {},
   "outputs": [],
   "source": []
  },
  {
   "cell_type": "code",
   "execution_count": null,
   "id": "7285b46d",
   "metadata": {},
   "outputs": [],
   "source": []
  }
 ],
 "metadata": {
  "kernelspec": {
   "display_name": "Python 3 (ipykernel)",
   "language": "python",
   "name": "python3"
  },
  "language_info": {
   "codemirror_mode": {
    "name": "ipython",
    "version": 3
   },
   "file_extension": ".py",
   "mimetype": "text/x-python",
   "name": "python",
   "nbconvert_exporter": "python",
   "pygments_lexer": "ipython3",
   "version": "3.9.12"
  }
 },
 "nbformat": 4,
 "nbformat_minor": 5
}
