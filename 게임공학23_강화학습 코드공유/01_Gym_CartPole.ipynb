{
 "cells": [
  {
   "cell_type": "markdown",
   "id": "c2952235",
   "metadata": {},
   "source": [
    "## Cartpole-v1 환경 세팅\n",
    "- \"lab02_gym_cartpole.py\"라는 이름에 아래 내용 복붙\n",
    "- pip install matplotlib"
   ]
  },
  {
   "cell_type": "code",
   "execution_count": null,
   "id": "7d411c71",
   "metadata": {},
   "outputs": [],
   "source": [
    "import gym\n",
    "from SimplePPO import PPO\n",
    "import matplotlib.pyplot as plt\n",
    "\n",
    "max_episode_num = 30\n",
    "env = gym.make('CartPole-v1', render_mode = 'human')\n",
    "agent = PPO(input_dim=4, action_dim=2)\n",
    "\n",
    "\n",
    "reward_history = []\n",
    "# 여러 에피소드동안 반복\n",
    "for ep in range(max_episode_num):\n",
    "\n",
    "    #에피소드 초기화\n",
    "    time, episode_reward, done = 0,0,False\n",
    "    state = env.reset()\n",
    "    state = state[0]\n",
    "    print(f\"=={ep}==\")\n",
    "    # 하나의 에피소드 시작\n",
    "    while not done:\n",
    "        prob, action = agent.select_action(state)\n",
    "        next_state, reward, done, _, _ = env.step(action)\n",
    "        env.render()\n",
    "\n",
    "        transition = (state.tolist(), action, reward, next_state.tolist(), prob[action].item(), done)\n",
    "        #print(transition)\n",
    "        agent.put_data(transition)\n",
    "        episode_reward += reward\n",
    "        state = next_state\n",
    "    \n",
    "    #하나의 에피소드 종료 후 총 reward 저장 및 훈련\n",
    "    reward_history.append(episode_reward)\n",
    "    if(ep>0 and ep%10==0):\n",
    "        agent.train_net()\n",
    "        \n",
    "\n",
    "plt.plot(reward_history)\n",
    "plt.show()"
   ]
  }
 ],
 "metadata": {
  "kernelspec": {
   "display_name": "Python 3 (ipykernel)",
   "language": "python",
   "name": "python3"
  },
  "language_info": {
   "codemirror_mode": {
    "name": "ipython",
    "version": 3
   },
   "file_extension": ".py",
   "mimetype": "text/x-python",
   "name": "python",
   "nbconvert_exporter": "python",
   "pygments_lexer": "ipython3",
   "version": "3.9.13"
  }
 },
 "nbformat": 4,
 "nbformat_minor": 5
}
