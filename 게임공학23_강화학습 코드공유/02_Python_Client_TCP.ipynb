{
 "cells": [
  {
   "cell_type": "markdown",
   "id": "2043bc38",
   "metadata": {},
   "source": [
    "### Python -> Unreal Send"
   ]
  },
  {
   "cell_type": "code",
   "execution_count": null,
   "id": "a9d34aaa",
   "metadata": {},
   "outputs": [],
   "source": [
    "import socket\n",
    "import struct\n",
    "import numpy as np\n",
    "import time\n",
    "\n",
    "HOST = '127.0.0.1'\n",
    "PORT = 5050\n",
    "\n",
    "client = socket.socket(socket.AF_INET, socket.SOCK_STREAM)\n",
    "try:\n",
    "    client.connect((HOST, PORT))\n",
    "    print(\"successfully connected\")\n",
    "except socket.error:\n",
    "    print(\"couldn't connect\", socket.error)\n",
    "\n",
    "\n",
    "# 전송할 배열\n",
    "array = np.array([1.223, 5.32, 231.23], dtype=np.float32)\n",
    "# 배열 크기 추가\n",
    "array = np.insert(array, 0, len(array))\n",
    "# 배열 크기 및 내용 전송\n",
    "array_bytes = array.tobytes()\n",
    "client.sendall(array_bytes)\n",
    "# 연결 종료\n",
    "client.close()"
   ]
  },
  {
   "cell_type": "markdown",
   "id": "bf0ea7a2",
   "metadata": {},
   "source": [
    "### Unreal -> Python Receive"
   ]
  },
  {
   "cell_type": "code",
   "execution_count": null,
   "id": "aa18047b",
   "metadata": {},
   "outputs": [],
   "source": [
    "import socket\n",
    "import struct\n",
    "import numpy as np\n",
    "import time\n",
    "\n",
    "HOST = '127.0.0.1'\n",
    "PORT = 5050\n",
    "\n",
    "client = socket.socket(socket.AF_INET, socket.SOCK_STREAM)\n",
    "try:\n",
    "    client.connect((HOST, PORT))\n",
    "    print(\"successfully connected\")\n",
    "except socket.error:\n",
    "    print(\"couldn't connect\", socket.error)\n",
    "\n",
    "\n",
    "# 전송할 배열\n",
    "array = np.array([1.223, 5.32, 231.23], dtype=np.float32)\n",
    "# 배열 크기 추가\n",
    "array = np.insert(array, 0, len(array))\n",
    "# 배열 크기 및 내용 전송\n",
    "array_bytes = array.tobytes()\n",
    "client.sendall(array_bytes)\n",
    "#client.send(bytes([10]))\n",
    "# ====================\n",
    "\n",
    "# ******* new ***********\n",
    "# 배열 크기 수신\n",
    "#start = time.time()\\\n",
    "\n",
    "array_size_bytes = client.recv(4)\n",
    "array_size = struct.unpack('!I', array_size_bytes)[0] #4바이트 정수 데이터를 해석하여 원래의 정수 값으로 언패킹하는 역할\n",
    "\n",
    "# 배열 데이터 수신\n",
    "array_data_bytes = client.recv(array_size * 4)\n",
    "array_data = np.frombuffer(array_data_bytes, dtype=np.float32)\n",
    "\n",
    "#end = time.time()\n",
    "# 수신한 배열 출력\n",
    "\n",
    "print(\"Received Array:\", array_data)\n",
    "\n",
    "#print(f\"total time: {end-start} ms\")\n",
    "# ******* new ***********\n",
    "\n",
    "# 연결 종료\n",
    "client.close()\n",
    "\n"
   ]
  }
 ],
 "metadata": {
  "kernelspec": {
   "display_name": "Python 3 (ipykernel)",
   "language": "python",
   "name": "python3"
  },
  "language_info": {
   "codemirror_mode": {
    "name": "ipython",
    "version": 3
   },
   "file_extension": ".py",
   "mimetype": "text/x-python",
   "name": "python",
   "nbconvert_exporter": "python",
   "pygments_lexer": "ipython3",
   "version": "3.9.12"
  }
 },
 "nbformat": 4,
 "nbformat_minor": 5
}
